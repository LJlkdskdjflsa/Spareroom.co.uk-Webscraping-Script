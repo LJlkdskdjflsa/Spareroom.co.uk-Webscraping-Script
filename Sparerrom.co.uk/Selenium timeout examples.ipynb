{
 "cells": [
  {
   "cell_type": "code",
   "execution_count": null,
   "metadata": {},
   "outputs": [],
   "source": [
    "import time\n",
    "from selenium.common import NoSuchElementException, ElementNotInteractableException\n",
    "from selenium.webdriver.common.by import By\n",
    "from selenium.webdriver.support.wait import WebDriverWait\n",
    "\n",
    "\n",
    "def test_fails(driver):\n",
    "    driver.get('https://www.selenium.dev/selenium/web/dynamic.html')\n",
    "    driver.find_element(By.ID, \"adder\").click()\n",
    "\n",
    "    with pytest.raises(NoSuchElementException):\n",
    "        driver.find_element(By.ID, 'box0')\n",
    "\n",
    "\n",
    "def test_sleep(driver):\n",
    "    driver.get('https://www.selenium.dev/selenium/web/dynamic.html')\n",
    "    driver.find_element(By.ID, \"adder\").click()\n",
    "\n",
    "    time.sleep(2)\n",
    "    added = driver.find_element(By.ID, \"box0\")\n",
    "\n",
    "    assert added.get_dom_attribute('class') == \"redbox\"\n",
    "\n",
    "\n",
    "def test_implicit(driver):\n",
    "    driver.implicitly_wait(2)\n",
    "    driver.get('https://www.selenium.dev/selenium/web/dynamic.html')\n",
    "    driver.find_element(By.ID, \"adder\").click()\n",
    "\n",
    "    added = driver.find_element(By.ID, \"box0\")\n",
    "\n",
    "    assert added.get_dom_attribute('class') == \"redbox\"\n",
    "\n",
    "\n",
    "def test_explicit(driver):\n",
    "    driver.get('https://www.selenium.dev/selenium/web/dynamic.html')\n",
    "    revealed = driver.find_element(By.ID, \"revealed\")\n",
    "    driver.find_element(By.ID, \"reveal\").click()\n",
    "\n",
    "    wait = WebDriverWait(driver, timeout=2)\n",
    "    wait.until(lambda d : revealed.is_displayed())\n",
    "\n",
    "    revealed.send_keys(\"Displayed\")\n",
    "    assert revealed.get_property(\"value\") == \"Displayed\"\n",
    "\n",
    "\n",
    "def test_explicit_options(driver):\n",
    "    driver.get('https://www.selenium.dev/selenium/web/dynamic.html')\n",
    "    revealed = driver.find_element(By.ID, \"revealed\")\n",
    "    driver.find_element(By.ID, \"reveal\").click()\n",
    "\n",
    "    errors = [NoSuchElementException, ElementNotInteractableException]\n",
    "    wait = WebDriverWait(driver, timeout=2, poll_frequency=.2, ignored_exceptions=errors)\n",
    "    wait.until(lambda d : revealed.send_keys(\"Displayed\") or True)\n",
    "\n",
    "    assert revealed.get_property(\"value\") == \"Displayed\""
   ]
  }
 ],
 "metadata": {
  "kernelspec": {
   "display_name": "Python 3.10.11 64-bit (microsoft store)",
   "language": "python",
   "name": "python3"
  },
  "language_info": {
   "name": "python",
   "version": "3.10.11"
  },
  "orig_nbformat": 4,
  "vscode": {
   "interpreter": {
    "hash": "505900a81766970a63773e0381fa01f375cc4c274591a27e83615b59f0081876"
   }
  }
 },
 "nbformat": 4,
 "nbformat_minor": 2
}
