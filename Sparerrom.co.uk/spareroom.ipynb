{
 "cells": [
  {
   "cell_type": "code",
   "execution_count": 215,
   "metadata": {},
   "outputs": [],
   "source": [
    "from selenium import webdriver\n",
    "from selenium.webdriver.common.by import By\n",
    "from selenium.webdriver.support.ui import Select\n",
    "from selenium.webdriver.support.wait import WebDriverWait\n",
    "from selenium.common import NoSuchElementException, ElementNotInteractableException\n",
    "import os\n",
    "from collections import defaultdict"
   ]
  },
  {
   "cell_type": "code",
   "execution_count": 77,
   "metadata": {},
   "outputs": [],
   "source": [
    "def has_script_run():\n",
    "    return os.path.exists('old_properties.txt')\n",
    "\n",
    "def set_file():\n",
    "    if has_script_run():\n",
    "        return run_firsttime()\n",
    "    else:\n",
    "        return keep_running(file_,params)\n",
    "\n"
   ]
  },
  {
   "cell_type": "code",
   "execution_count": 216,
   "metadata": {},
   "outputs": [
    {
     "name": "stdout",
     "output_type": "stream",
     "text": [
      "postcode SW2 5NB\n",
      "min_price 500\n",
      "max_price 5000\n"
     ]
    }
   ],
   "source": [
    "parameter_dct = defaultdict(str)\n",
    "\n",
    "with open('parameters.txt','r') as params:\n",
    "    for line in params:\n",
    "        line = line.split('=')\n",
    "        line = [word.strip() for word in line]\n",
    "        line = [word.replace(\"'\",\"\") for word in line]\n",
    "        print(line[0],line[1])\n",
    "        parameter_dct[line[0]] = line[1]\n",
    "            "
   ]
  },
  {
   "cell_type": "code",
   "execution_count": 173,
   "metadata": {},
   "outputs": [],
   "source": [
    "def set_postcode():\n",
    "    postcode = param_dct['postcode']\n",
    "    print(postcode)\n",
    "    try:\n",
    "        driver.find_element(By.XPATH,'//*[@id=\"search_by_location_field\"]').send_keys(postcode)\n",
    "        driver.find_element(By.XPATH,'//*[@id=\"search_by_location_submit_button\"]').click()\n",
    "    except:\n",
    "        print('Postcode element not found or postocde is incorrect')"
   ]
  },
  {
   "cell_type": "code",
   "execution_count": 205,
   "metadata": {},
   "outputs": [
    {
     "name": "stdout",
     "output_type": "stream",
     "text": [
      "got here 500 SW2 5NB\n"
     ]
    }
   ],
   "source": [
    "# CHECK IF FILE IS CREATED\n",
    "\n",
    "# IF NOT CREATED, CALL CREATE FILE\n",
    "\n",
    "def run_firstime(url,params):\n",
    "\n",
    "    # INITALISES DRIVER\n",
    "    # SEARCHES SPAREROOM FOR ALL LISTINGS\n",
    "    # SAVE LISTINGS IN ORDER AND SAVES TO FILE\n",
    "    # THEN WAITED 10 MINS\n",
    "    # RUNS keep_running SCRIPT\n",
    "\n",
    "\n",
    "    driver = webdriver.Chrome()\n",
    "    # open Spare Room \n",
    "    url = 'https://www.spareroom.co.uk'\n",
    "    driver.get(url)\n",
    "    # Newest Ads URL\n",
    "    # https://www.spareroom.co.uk/flatshare/index.cgi?&search_id=1263074378&offset=0&sort_by=days_since_placed\n",
    "\n",
    "    # Accept Cookies\n",
    "    wait = WebDriverWait(driver, timeout=2)\n",
    "    wait.until(lambda d : driver.find_element(By.ID,'onetrust-accept-btn-handler').is_displayed())\n",
    "    driver.find_element(By.ID,'onetrust-accept-btn-handler').click()\n",
    "    # p_code = params['postcode']\n",
    "    # print('p_code set')\n",
    "\n",
    "    postcode = parameter_dct['postcode']\n",
    "    min_price = parameter_dct['min_price']\n",
    "    max_price = parameter_dct['max_price']\n",
    "\n",
    "    print('got here',min_price,postcode)\n",
    "\n",
    "\n",
    "    wait = WebDriverWait(driver, timeout=2)\n",
    "    wait.until(lambda d : driver.find_element(By.XPATH,'//*[@id=\"search_by_location_field\"]').is_displayed())\n",
    "    driver.find_element(By.XPATH,'//*[@id=\"search_by_location_field\"]').send_keys(postcode)\n",
    "\n",
    "    # driver.find_element(By.XPATH,'//*[@id=\"search_by_location_field\"]')\n",
    "    driver.find_element(By.XPATH,'//*[@id=\"search_by_location_submit_button\"]').click()\n",
    "\n",
    "\n",
    "    # Log in\n",
    "    # driver.find_element(By.ID,'loginButtonNav').click()\n",
    "    # driver.find_element(By.XPATH,'//*[@id=\"loginemail\"]').send_keys('tomtfranklin@gmail.com')\n",
    "    # driver.find_element(By.XPATH,'//*[@id=\"loginpass\"]').send_keys('Spareroom123!')\n",
    "    # driver.find_element(By.XPATH,'//*[@id=\"sign-in-button\"]').click()\n",
    "\n",
    "    # SET PARAMETERS\n",
    "\n",
    "    \n",
    "\n",
    "\n",
    "    # select = Select(driver.find_element(By.XPATH,'//*[@id=\"sort_by\"]'))\n",
    "    # select.select_by_value('days_since_placed')\n",
    "\n",
    "    # listings = driver.find_elements(By.CLASS_NAME,'listing-result')\n",
    "    # # element = listings[0]\n",
    "    # arr = []\n",
    "\n",
    "    # c=0\n",
    "    # while True:\n",
    "    #     # print('page ',c)\n",
    "    #     listings = driver.find_elements(By.CLASS_NAME,'listing-result')\n",
    "    #     # print('listings found')\n",
    "    #     try:\n",
    "    #         next_page_element = driver.find_element(By.ID,'paginationNextPageLink')\n",
    "    #         # print('next page element found')\n",
    "    #     except:\n",
    "    #         # print('this is the break')\n",
    "    #         break\n",
    "    #     c1=0\n",
    "    #     for element in listings:\n",
    "    #         # print('element ',c1,' is found')\n",
    "    #         href = element.find_element(By.TAG_NAME, 'a').get_attribute('href')\n",
    "    #         data_listing_id = element.get_attribute('data-listing-id')\n",
    "    #         arr.append(tuple([data_listing_id,href]))\n",
    "    #         c1+=1\n",
    "\n",
    "    #     next_page_element.click()\n",
    "    #     c+=1\n",
    "\n",
    "    # arr.sort()\n",
    "\n",
    "    \n",
    "    # with open('old_properties.txt','w') as file_:\n",
    "    #         for id_,href in arr:\n",
    "    #             file_.write(id_+',')    \n",
    "run_firstime('https://www.spareroom.co.uk',[])"
   ]
  },
  {
   "cell_type": "code",
   "execution_count": null,
   "metadata": {},
   "outputs": [],
   "source": []
  },
  {
   "cell_type": "code",
   "execution_count": 217,
   "metadata": {},
   "outputs": [],
   "source": [
    "driver = webdriver.Chrome()\n",
    "# open Spare Room \n",
    "url = 'https://www.spareroom.co.uk'\n",
    "driver.get(url)\n",
    "# Newest Ads URL\n",
    "# https://www.spareroom.co.uk/flatshare/index.cgi?&search_id=1263074378&offset=0&sort_by=days_since_placed\n",
    "\n",
    "# Accept Cookies\n",
    "wait = WebDriverWait(driver, timeout=2)\n",
    "wait.until(lambda d : driver.find_element(By.ID,'onetrust-accept-btn-handler').is_displayed())\n",
    "driver.find_element(By.ID,'onetrust-accept-btn-handler').click()\n",
    "# # p_code = params['postcode']\n",
    "# # print('p_code set')\n",
    "\n",
    "# postcode = parameter_dct['postcode']\n",
    "# min_price = parameter_dct['min_price']\n",
    "# max_price = parameter_dct['max_price']\n",
    "\n",
    "# print('got here',min_price,postcode)\n",
    "\n",
    "\n",
    "# wait = WebDriverWait(driver, timeout=2)\n",
    "# wait.until(lambda d : driver.find_element(By.XPATH,'//*[@id=\"search_by_location_field\"]').is_displayed())\n",
    "# driver.find_element(By.XPATH,'//*[@id=\"search_by_location_field\"]').send_keys(postcode)\n",
    "\n",
    "# # driver.find_element(By.XPATH,'//*[@id=\"search_by_location_field\"]')\n",
    "# driver.find_element(By.XPATH,'//*[@id=\"search_by_location_submit_button\"]').click()"
   ]
  },
  {
   "cell_type": "code",
   "execution_count": 214,
   "metadata": {},
   "outputs": [],
   "source": [
    "#min price xpath = //*[@id=\"minRent\"]\n",
    "#max price xpath = //*[@id=\"maxRent\"]\n",
    "#Apply filters button = //*[@id=\"searchFilters\"]/div/div/div/button\n",
    "\n",
    "driver.find_element(By.XPATH,'//*[@id=\"minRent\"]').send_keys(parameter_dct['min_price'])\n",
    "driver.find_element(By.XPATH,'//*[@id=\"maxRent\"]').send_keys(parameter_dct['max_price'])\n",
    "driver.find_element(By.XPATH,'//*[@id=\"searchFilters\"]/div/div/div/button').click()\n"
   ]
  },
  {
   "cell_type": "code",
   "execution_count": null,
   "metadata": {},
   "outputs": [],
   "source": [
    "driver.find_element(By)"
   ]
  },
  {
   "cell_type": "code",
   "execution_count": 56,
   "metadata": {},
   "outputs": [
    {
     "name": "stdout",
     "output_type": "stream",
     "text": [
      "hey\n"
     ]
    }
   ],
   "source": [
    "file_ = 'old_properties.txt'\n",
    "\n",
    "if os.path.exists(file_):\n",
    "    return file_\n",
    "else:\n",
    "    with open('old_properties.txt','w'):\n",
    "        for id_ in id_list:\n",
    "            file.write(id_)"
   ]
  },
  {
   "cell_type": "code",
   "execution_count": 66,
   "metadata": {},
   "outputs": [],
   "source": [
    "driver = webdriver.Chrome()\n",
    "# open Spare Room \n",
    "driver.get('https://www.spareroom.co.uk/')\n",
    "# Newest Ads URL\n",
    "# https://www.spareroom.co.uk/flatshare/index.cgi?&search_id=1263074378&offset=0&sort_by=days_since_placed\n",
    "\n",
    "# Accept Cookies\n",
    "wait = WebDriverWait(driver, timeout=2)\n",
    "wait.until(lambda d : driver.find_element(By.ID,'onetrust-accept-btn-handler').is_displayed())\n",
    "driver.find_element(By.ID,'onetrust-accept-btn-handler').click()\n",
    "\n",
    "# Log in\n",
    "driver.find_element(By.ID,'loginButtonNav').click()\n",
    "driver.find_element(By.XPATH,'//*[@id=\"loginemail\"]').send_keys('tomtfranklin@gmail.com')\n",
    "driver.find_element(By.XPATH,'//*[@id=\"loginpass\"]').send_keys('Spareroom123!')\n",
    "driver.find_element(By.XPATH,'//*[@id=\"sign-in-button\"]').click()\n",
    "\n",
    "driver.find_element(By.XPATH,'//*[@id=\"search_by_location_field\"]').send_keys('SW25NB')\n",
    "driver.find_element(By.XPATH,'//*[@id=\"submitButton\"]').click()\n",
    "\n",
    "select = Select(driver.find_element(By.XPATH,'//*[@id=\"sort_by\"]'))\n",
    "select.select_by_value('days_since_placed')\n",
    "\n",
    "listings = driver.find_elements(By.CLASS_NAME,'listing-result')\n",
    "# element = listings[0]\n",
    "arr = []\n",
    "for element in listings:\n",
    "    href = element.find_element(By.TAG_NAME, 'a').get_attribute('href')\n",
    "    data_listing_id = element.get_attribute('data-listing-id')\n",
    "    arr.append(tuple([data_listing_id,href]))\n",
    "\n"
   ]
  },
  {
   "cell_type": "code",
   "execution_count": 65,
   "metadata": {},
   "outputs": [],
   "source": [
    "file_ = 'old_properties.txt'\n",
    "\n",
    "if os.path.exists(file_):\n",
    "    print(file_)\n",
    "else:\n",
    "    with open('old_properties.txt','w') as file_:\n",
    "        for id_,href in arr:\n",
    "            file_.write(id_)\n",
    "            file_.write(',')\n",
    "\n",
    "\n",
    "\n",
    "# element.find_element(By.CLASS_NAME,'desktop')\n",
    "# element.get_attribute()\n",
    "# # element.find_element(By.CLASS_NAME,'desktop')\n",
    "# print(element.get_attribute('href'))\n"
   ]
  },
  {
   "cell_type": "code",
   "execution_count": 44,
   "metadata": {},
   "outputs": [],
   "source": [
    "def create_file():\n",
    "    return\n",
    "\n",
    "def file_exists():\n",
    "    file = with open('old_properties','w'):\n",
    "\n",
    "\n",
    "    return "
   ]
  },
  {
   "cell_type": "code",
   "execution_count": 53,
   "metadata": {},
   "outputs": [
    {
     "ename": "NameError",
     "evalue": "name 'sdfds' is not defined",
     "output_type": "error",
     "traceback": [
      "\u001b[1;31m---------------------------------------------------------------------------\u001b[0m",
      "\u001b[1;31mNameError\u001b[0m                                 Traceback (most recent call last)",
      "Cell \u001b[1;32mIn [53], line 1\u001b[0m\n\u001b[1;32m----> 1\u001b[0m \u001b[38;5;28;01mif\u001b[39;00m \u001b[43msdfds\u001b[49m:\n\u001b[0;32m      2\u001b[0m     \u001b[38;5;28mprint\u001b[39m(\u001b[38;5;124m'\u001b[39m\u001b[38;5;124myes\u001b[39m\u001b[38;5;124m'\u001b[39m)\n\u001b[0;32m      3\u001b[0m \u001b[38;5;28;01melse\u001b[39;00m:\n",
      "\u001b[1;31mNameError\u001b[0m: name 'sdfds' is not defined"
     ]
    }
   ],
   "source": []
  },
  {
   "cell_type": "code",
   "execution_count": 73,
   "metadata": {},
   "outputs": [],
   "source": [
    "# driver.find_element(By.ID, 'loginemail').send_keys('tomtfranklin@gmail.com')\n",
    "# driver.find_element(By.ID, 'loginpass').send_keys('Spareroom123!')\n",
    "\n",
    "driver.find_element(By.ID, 'sign-in-button').click()\n",
    "# driver.find_element(By.ID, 'sort_by').send_keys('last_updated')\n",
    "# driver.find_element(By.ID, 'sort_by').click()\n",
    "//*[@id=\"maincontent\"]/ul/li[1]/article/header[1]/a"
   ]
  },
  {
   "cell_type": "code",
   "execution_count": 32,
   "metadata": {},
   "outputs": [],
   "source": [
    "# postcode_input = input('Enter Post Code: ')"
   ]
  },
  {
   "cell_type": "code",
   "execution_count": 37,
   "metadata": {},
   "outputs": [],
   "source": [
    "# onetrust-accept-btn-handler\n",
    "# driver.find_element(By.ID, 'onetrust-accept-btn-handler').click()\n",
    "driver.find_element(By.ID, 'sort_by').click()\n"
   ]
  },
  {
   "cell_type": "code",
   "execution_count": 42,
   "metadata": {},
   "outputs": [],
   "source": [
    "select = Select(driver.find_element(By.ID,'sort_by'))\n",
    "\n",
    "# select by visible text\n",
    "# select.select_by_visible_text('')\n",
    "\n",
    "select.select_by_value('days_since_placed')\n",
    "\n"
   ]
  },
  {
   "cell_type": "code",
   "execution_count": 10,
   "metadata": {},
   "outputs": [
    {
     "ename": "NoSuchElementException",
     "evalue": "Message: no such element: Unable to locate element: {\"method\":\"css selector\",\"selector\":\".listing-result\"}\n  (Session info: chrome=117.0.5938.132); For documentation on this error, please visit: https://www.selenium.dev/documentation/webdriver/troubleshooting/errors#no-such-element-exception\nStacktrace:\n\tGetHandleVerifier [0x00007FF6DFE97D12+55474]\n\t(No symbol) [0x00007FF6DFE077C2]\n\t(No symbol) [0x00007FF6DFCBE0EB]\n\t(No symbol) [0x00007FF6DFCFEBAC]\n\t(No symbol) [0x00007FF6DFCFED2C]\n\t(No symbol) [0x00007FF6DFD39F77]\n\t(No symbol) [0x00007FF6DFD1F19F]\n\t(No symbol) [0x00007FF6DFD37EF2]\n\t(No symbol) [0x00007FF6DFD1EF33]\n\t(No symbol) [0x00007FF6DFCF3D41]\n\t(No symbol) [0x00007FF6DFCF4F84]\n\tGetHandleVerifier [0x00007FF6E01FB762+3609346]\n\tGetHandleVerifier [0x00007FF6E0251A80+3962400]\n\tGetHandleVerifier [0x00007FF6E0249F0F+3930799]\n\tGetHandleVerifier [0x00007FF6DFF33CA6+694342]\n\t(No symbol) [0x00007FF6DFE12218]\n\t(No symbol) [0x00007FF6DFE0E484]\n\t(No symbol) [0x00007FF6DFE0E5B2]\n\t(No symbol) [0x00007FF6DFDFEE13]\n\tBaseThreadInitThunk [0x00007FFFF186257D+29]\n\tRtlUserThreadStart [0x00007FFFF2FEAA68+40]\n",
     "output_type": "error",
     "traceback": [
      "\u001b[1;31m---------------------------------------------------------------------------\u001b[0m",
      "\u001b[1;31mNoSuchElementException\u001b[0m                    Traceback (most recent call last)",
      "Cell \u001b[1;32mIn [10], line 1\u001b[0m\n\u001b[1;32m----> 1\u001b[0m \u001b[43mdriver\u001b[49m\u001b[38;5;241;43m.\u001b[39;49m\u001b[43mfind_element\u001b[49m\u001b[43m(\u001b[49m\u001b[43mBy\u001b[49m\u001b[38;5;241;43m.\u001b[39;49m\u001b[43mCLASS_NAME\u001b[49m\u001b[43m,\u001b[49m\u001b[43m \u001b[49m\u001b[38;5;124;43m'\u001b[39;49m\u001b[38;5;124;43mlisting-result\u001b[39;49m\u001b[38;5;124;43m'\u001b[39;49m\u001b[43m)\u001b[49m\n",
      "File \u001b[1;32m~\\AppData\\Local\\Packages\\PythonSoftwareFoundation.Python.3.10_qbz5n2kfra8p0\\LocalCache\\local-packages\\Python310\\site-packages\\selenium\\webdriver\\remote\\webdriver.py:738\u001b[0m, in \u001b[0;36mWebDriver.find_element\u001b[1;34m(self, by, value)\u001b[0m\n\u001b[0;32m    735\u001b[0m     by \u001b[39m=\u001b[39m By\u001b[39m.\u001b[39mCSS_SELECTOR\n\u001b[0;32m    736\u001b[0m     value \u001b[39m=\u001b[39m \u001b[39mf\u001b[39m\u001b[39m'\u001b[39m\u001b[39m[name=\u001b[39m\u001b[39m\"\u001b[39m\u001b[39m{\u001b[39;00mvalue\u001b[39m}\u001b[39;00m\u001b[39m\"\u001b[39m\u001b[39m]\u001b[39m\u001b[39m'\u001b[39m\n\u001b[1;32m--> 738\u001b[0m \u001b[39mreturn\u001b[39;00m \u001b[39mself\u001b[39;49m\u001b[39m.\u001b[39;49mexecute(Command\u001b[39m.\u001b[39;49mFIND_ELEMENT, {\u001b[39m\"\u001b[39;49m\u001b[39musing\u001b[39;49m\u001b[39m\"\u001b[39;49m: by, \u001b[39m\"\u001b[39;49m\u001b[39mvalue\u001b[39;49m\u001b[39m\"\u001b[39;49m: value})[\u001b[39m\"\u001b[39m\u001b[39mvalue\u001b[39m\u001b[39m\"\u001b[39m]\n",
      "File \u001b[1;32m~\\AppData\\Local\\Packages\\PythonSoftwareFoundation.Python.3.10_qbz5n2kfra8p0\\LocalCache\\local-packages\\Python310\\site-packages\\selenium\\webdriver\\remote\\webdriver.py:344\u001b[0m, in \u001b[0;36mWebDriver.execute\u001b[1;34m(self, driver_command, params)\u001b[0m\n\u001b[0;32m    342\u001b[0m response \u001b[39m=\u001b[39m \u001b[39mself\u001b[39m\u001b[39m.\u001b[39mcommand_executor\u001b[39m.\u001b[39mexecute(driver_command, params)\n\u001b[0;32m    343\u001b[0m \u001b[39mif\u001b[39;00m response:\n\u001b[1;32m--> 344\u001b[0m     \u001b[39mself\u001b[39;49m\u001b[39m.\u001b[39;49merror_handler\u001b[39m.\u001b[39;49mcheck_response(response)\n\u001b[0;32m    345\u001b[0m     response[\u001b[39m\"\u001b[39m\u001b[39mvalue\u001b[39m\u001b[39m\"\u001b[39m] \u001b[39m=\u001b[39m \u001b[39mself\u001b[39m\u001b[39m.\u001b[39m_unwrap_value(response\u001b[39m.\u001b[39mget(\u001b[39m\"\u001b[39m\u001b[39mvalue\u001b[39m\u001b[39m\"\u001b[39m, \u001b[39mNone\u001b[39;00m))\n\u001b[0;32m    346\u001b[0m     \u001b[39mreturn\u001b[39;00m response\n",
      "File \u001b[1;32m~\\AppData\\Local\\Packages\\PythonSoftwareFoundation.Python.3.10_qbz5n2kfra8p0\\LocalCache\\local-packages\\Python310\\site-packages\\selenium\\webdriver\\remote\\errorhandler.py:229\u001b[0m, in \u001b[0;36mErrorHandler.check_response\u001b[1;34m(self, response)\u001b[0m\n\u001b[0;32m    227\u001b[0m         alert_text \u001b[39m=\u001b[39m value[\u001b[39m\"\u001b[39m\u001b[39malert\u001b[39m\u001b[39m\"\u001b[39m]\u001b[39m.\u001b[39mget(\u001b[39m\"\u001b[39m\u001b[39mtext\u001b[39m\u001b[39m\"\u001b[39m)\n\u001b[0;32m    228\u001b[0m     \u001b[39mraise\u001b[39;00m exception_class(message, screen, stacktrace, alert_text)  \u001b[39m# type: ignore[call-arg]  # mypy is not smart enough here\u001b[39;00m\n\u001b[1;32m--> 229\u001b[0m \u001b[39mraise\u001b[39;00m exception_class(message, screen, stacktrace)\n",
      "\u001b[1;31mNoSuchElementException\u001b[0m: Message: no such element: Unable to locate element: {\"method\":\"css selector\",\"selector\":\".listing-result\"}\n  (Session info: chrome=117.0.5938.132); For documentation on this error, please visit: https://www.selenium.dev/documentation/webdriver/troubleshooting/errors#no-such-element-exception\nStacktrace:\n\tGetHandleVerifier [0x00007FF6DFE97D12+55474]\n\t(No symbol) [0x00007FF6DFE077C2]\n\t(No symbol) [0x00007FF6DFCBE0EB]\n\t(No symbol) [0x00007FF6DFCFEBAC]\n\t(No symbol) [0x00007FF6DFCFED2C]\n\t(No symbol) [0x00007FF6DFD39F77]\n\t(No symbol) [0x00007FF6DFD1F19F]\n\t(No symbol) [0x00007FF6DFD37EF2]\n\t(No symbol) [0x00007FF6DFD1EF33]\n\t(No symbol) [0x00007FF6DFCF3D41]\n\t(No symbol) [0x00007FF6DFCF4F84]\n\tGetHandleVerifier [0x00007FF6E01FB762+3609346]\n\tGetHandleVerifier [0x00007FF6E0251A80+3962400]\n\tGetHandleVerifier [0x00007FF6E0249F0F+3930799]\n\tGetHandleVerifier [0x00007FF6DFF33CA6+694342]\n\t(No symbol) [0x00007FF6DFE12218]\n\t(No symbol) [0x00007FF6DFE0E484]\n\t(No symbol) [0x00007FF6DFE0E5B2]\n\t(No symbol) [0x00007FF6DFDFEE13]\n\tBaseThreadInitThunk [0x00007FFFF186257D+29]\n\tRtlUserThreadStart [0x00007FFFF2FEAA68+40]\n"
     ]
    }
   ],
   "source": [
    "driver.find_element(By.CLASS_NAME, 'listing-result')"
   ]
  },
  {
   "cell_type": "code",
   "execution_count": 51,
   "metadata": {},
   "outputs": [],
   "source": [
    "# import pytest\n",
    "import time\n",
    "from selenium.common import NoSuchElementException, ElementNotInteractableException\n",
    "from selenium.webdriver.common.by import By\n",
    "from selenium.webdriver.support.wait import WebDriverWait\n",
    "\n",
    "\n",
    "def test_fails(driver):\n",
    "    driver.get('https://www.selenium.dev/selenium/web/dynamic.html')\n",
    "    driver.find_element(By.ID, \"adder\").click()\n",
    "\n",
    "    with pytest.raises(NoSuchElementException):\n",
    "        driver.find_element(By.ID, 'box0')\n",
    "\n",
    "\n",
    "def test_sleep(driver):\n",
    "    driver.get('https://www.selenium.dev/selenium/web/dynamic.html')\n",
    "    driver.find_element(By.ID, \"adder\").click()\n",
    "\n",
    "    time.sleep(2)\n",
    "    added = driver.find_element(By.ID, \"box0\")\n",
    "\n",
    "    assert added.get_dom_attribute('class') == \"redbox\"\n",
    "\n",
    "\n",
    "def test_implicit(driver):\n",
    "    driver.implicitly_wait(2)\n",
    "    driver.get('https://www.selenium.dev/selenium/web/dynamic.html')\n",
    "    driver.find_element(By.ID, \"adder\").click()\n",
    "\n",
    "    added = driver.find_element(By.ID, \"box0\")\n",
    "\n",
    "    assert added.get_dom_attribute('class') == \"redbox\"\n",
    "\n",
    "\n",
    "def test_explicit(driver):\n",
    "    driver.get('https://www.selenium.dev/selenium/web/dynamic.html')\n",
    "    revealed = driver.find_element(By.ID, \"revealed\")\n",
    "    driver.find_element(By.ID, \"reveal\").click()\n",
    "\n",
    "    wait = WebDriverWait(driver, timeout=2)\n",
    "    wait.until(lambda d : revealed.is_displayed())\n",
    "\n",
    "    revealed.send_keys(\"Displayed\")\n",
    "    assert revealed.get_property(\"value\") == \"Displayed\"\n",
    "\n",
    "\n",
    "def test_explicit_options(driver):\n",
    "    driver.get('https://www.selenium.dev/selenium/web/dynamic.html')\n",
    "    revealed = driver.find_element(By.ID, \"revealed\")\n",
    "    driver.find_element(By.ID, \"reveal\").click()\n",
    "\n",
    "    errors = [NoSuchElementException, ElementNotInteractableException]\n",
    "    wait = WebDriverWait(driver, timeout=2, poll_frequency=.2, ignored_exceptions=errors)\n",
    "    wait.until(lambda d : revealed.send_keys(\"Displayed\") or True)\n",
    "\n",
    "    assert revealed.get_property(\"value\") == \"Displayed\""
   ]
  },
  {
   "cell_type": "code",
   "execution_count": 52,
   "metadata": {},
   "outputs": [],
   "source": [
    "test_sleep(webdriver.Chrome())"
   ]
  },
  {
   "cell_type": "code",
   "execution_count": 54,
   "metadata": {},
   "outputs": [],
   "source": [
    "test_explicit(webdriver.Chrome())"
   ]
  },
  {
   "cell_type": "code",
   "execution_count": null,
   "metadata": {},
   "outputs": [],
   "source": []
  }
 ],
 "metadata": {
  "kernelspec": {
   "display_name": "Python 3.10.11 64-bit (microsoft store)",
   "language": "python",
   "name": "python3"
  },
  "language_info": {
   "codemirror_mode": {
    "name": "ipython",
    "version": 3
   },
   "file_extension": ".py",
   "mimetype": "text/x-python",
   "name": "python",
   "nbconvert_exporter": "python",
   "pygments_lexer": "ipython3",
   "version": "3.10.11"
  },
  "orig_nbformat": 4,
  "vscode": {
   "interpreter": {
    "hash": "505900a81766970a63773e0381fa01f375cc4c274591a27e83615b59f0081876"
   }
  }
 },
 "nbformat": 4,
 "nbformat_minor": 2
}
